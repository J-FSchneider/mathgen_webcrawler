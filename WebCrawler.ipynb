{
 "cells": [
  {
   "cell_type": "code",
   "execution_count": 156,
   "metadata": {
    "collapsed": true
   },
   "outputs": [],
   "source": [
    "import requests as req\n",
    "from bs4 import BeautifulSoup\n",
    "import re"
   ]
  },
  {
   "cell_type": "markdown",
   "metadata": {},
   "source": [
    "# Webcrwaler for HW 4 Social Network Class 2018 \n",
    "\n",
    "This cralwer might be helpful to save some time doing question 6 in HW4. "
   ]
  },
  {
   "cell_type": "code",
   "execution_count": 171,
   "metadata": {
    "collapsed": false
   },
   "outputs": [],
   "source": [
    "def web_crawler(start_id):\n",
    "    \"\"\"\n",
    "    start_id is the folder of the start_node: e.g. 'id.php?id=202451'\n",
    "    return: it returns the list of the ancestors including information about country, students and descendatns\n",
    "    \"\"\"\n",
    "    not_found = True\n",
    "    while not_found: \n",
    "        url = 'https://www.genealogy.math.ndsu.nodak.edu/'+str(start_id)\n",
    "        html = req.get(url).text\n",
    "        soup = BeautifulSoup(html, 'html.parser')\n",
    "        #get country\n",
    "        try:\n",
    "            country = soup.find(id=\"paddingWrapper\").img.attrs['title']\n",
    "            print(\"\\n\"+\"Country: \" + str(country))\n",
    "        except:\n",
    "            print(\"\\n Country unknown\")\n",
    "\n",
    "        #get name of advisor + link\n",
    "        name = soup.h2.contents[0]\n",
    "        print('Name: ' + str(name)[1:])\n",
    "\n",
    "        # get number of descendants and students \n",
    "        try: \n",
    "            st = soup.find(id=\"paddingWrapper\").find_all('p', style=\"text-align: center\")[1].contents\n",
    "            matchobj1 = re.search('([0-9]+)',str(st[0]))\n",
    "            matchobj2 = re.search('([0-9]+)',str(st[2]))\n",
    "            print('Students: '+ str(matchobj1.group(0)) + ' Descendants: ' + str(matchobj2.group(0))) \n",
    "        except:\n",
    "            print('No Students known or leaf reached')\n",
    "            \n",
    "        try:\n",
    "            tag = soup.find(id=\"paddingWrapper\").find('p',style=\"text-align: center; line-height: 2.75ex\")\n",
    "            start_id = tag.a.attrs['href']\n",
    "        except: \n",
    "            print(\"No Advisor found!\")\n",
    "            not_found = False\n",
    "            break\n",
    "        "
   ]
  },
  {
   "cell_type": "code",
   "execution_count": 173,
   "metadata": {
    "collapsed": false,
    "scrolled": false
   },
   "outputs": [
    {
     "name": "stdout",
     "output_type": "stream",
     "text": [
      "\n",
      "Country: UnitedKingdom\n",
      "Name: Mustafa Ali Hussain Al-Jaboori \n",
      "No Students known or leaf reached\n",
      "\n",
      "Country: Canada\n",
      "Name: Djoko  Wirosoetisno \n",
      "Students: 1 Descendants: 1\n",
      "\n",
      "Country: UnitedStates\n",
      "Name: Theodore Gordon Shepherd \n",
      "Students: 2 Descendants: 3\n",
      "\n",
      "Country: UnitedKingdom\n",
      "Name: Peter Broomell Rhines \n",
      "Students: 2 Descendants: 8\n",
      "\n",
      "Country: UnitedKingdom\n",
      "Name: Francis Patton Bretherton \n",
      "Students: 6 Descendants: 32\n",
      "\n",
      "Country: UnitedKingdom\n",
      "Name: Geoffrey Ingram Taylor \n",
      "Students: 14 Descendants: 806\n",
      "\n",
      "Country: UnitedKingdom\n",
      "Name: Joseph John Thomson \n",
      "Students: 9 Descendants: 2579\n",
      "\n",
      "Country: UnitedKingdom\n",
      "Name: John William Strutt (Lord Rayleigh) \n",
      "Students: 2 Descendants: 2581\n",
      "\n",
      "Country: UnitedKingdom\n",
      "Name: Edward John Routh \n",
      "Students: 4 Descendants: 10652\n",
      "\n",
      "Country: UnitedKingdom\n",
      "Name: William  Hopkins \n",
      "Students: 6 Descendants: 15212\n",
      "\n",
      "Country: UnitedKingdom\n",
      "Name: Adam  Sedgwick \n",
      "Students: 1 Descendants: 15213\n",
      "\n",
      "Country: UnitedKingdom\n",
      "Name: Thomas  Jones \n",
      "Students: 1 Descendants: 15214\n",
      "\n",
      "Country: UnitedKingdom\n",
      "Name: Thomas  Postlethwaite \n",
      "Students: 1 Descendants: 15215\n",
      "\n",
      "Country: UnitedKingdom\n",
      "Name: Stephen  Whisson \n",
      "Students: 1 Descendants: 15216\n",
      "\n",
      "Country: UnitedKingdom\n",
      "Name: Walter  Taylor \n",
      "Students: 1 Descendants: 15217\n",
      "\n",
      "Country: UnitedKingdom\n",
      "Name: Robert  Smith \n",
      "Students: 1 Descendants: 15218\n",
      "\n",
      "Country: UnitedKingdom\n",
      "Name: Roger  Cotes \n",
      "Students: 1 Descendants: 15219\n",
      "\n",
      "Country: UnitedKingdom\n",
      "Name: Isaac  Newton \n",
      "Students: 2 Descendants: 15221\n",
      "\n",
      "Country: UnitedKingdom\n",
      "Name: Isaac  Barrow \n",
      "Students: 1 Descendants: 15222\n",
      "\n",
      "Country: Italy\n",
      "Name: Vincenzo  Viviani \n",
      "Students: 1 Descendants: 15223\n",
      "\n",
      "Country: Italy\n",
      "Name: Galileo  Galilei \n",
      "Students: 3 Descendants: 15751\n",
      "\n",
      "Country: Italy\n",
      "Name: Ostilio  Ricci \n",
      "Students: 1 Descendants: 15752\n",
      "\n",
      " Country unknown\n",
      "Name: Nicolò Fontana Tartaglia \n",
      "No Students known or leaf reached\n",
      "No Advisor found!\n"
     ]
    }
   ],
   "source": [
    "# example\n",
    "web_crawler('id.php?id=202451')"
   ]
  },
  {
   "cell_type": "code",
   "execution_count": null,
   "metadata": {
    "collapsed": true
   },
   "outputs": [],
   "source": []
  }
 ],
 "metadata": {
  "anaconda-cloud": {},
  "kernelspec": {
   "display_name": "Python [conda env:py36]",
   "language": "python",
   "name": "conda-env-py36-py"
  },
  "language_info": {
   "codemirror_mode": {
    "name": "ipython",
    "version": 3
   },
   "file_extension": ".py",
   "mimetype": "text/x-python",
   "name": "python",
   "nbconvert_exporter": "python",
   "pygments_lexer": "ipython3",
   "version": "3.6.3"
  }
 },
 "nbformat": 4,
 "nbformat_minor": 2
}
